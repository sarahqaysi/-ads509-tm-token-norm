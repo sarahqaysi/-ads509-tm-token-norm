{
 "cells": [
  {
   "cell_type": "markdown",
   "metadata": {},
   "source": [
    "# ADS 509 Assignment 2.1: Tokenization, Normalization, Descriptive Statistics \n",
    "\n",
    "### Sarah Alqaysi\n",
    "\n",
    "This notebook holds Assignment 2.1 for Module 2 in ADS 509, Applied Text Mining. Work through this notebook, writing code and answering questions where required. \n",
    "\n",
    "In the previous assignment you put together Twitter data and lyrics data on two artists. In this assignment we explore some of the textual features of those data sets. If, for some reason, you did not complete that previous assignment, data to use for this assignment can be found in the assignment materials section of Blackboard. \n",
    "\n",
    "This assignment asks you to write a short function to calculate some descriptive statistics on a piece of text. Then you are asked to find some interesting and unique statistics on your corpora. \n"
   ]
  },
  {
   "cell_type": "markdown",
   "metadata": {},
   "source": [
    "## General Assignment Instructions\n",
    "\n",
    "These instructions are included in every assignment, to remind you of the coding standards for the class. Feel free to delete this cell after reading it. \n",
    "\n",
    "One sign of mature code is conforming to a style guide. We recommend the [Google Python Style Guide](https://google.github.io/styleguide/pyguide.html). If you use a different style guide, please include a cell with a link. \n",
    "\n",
    "Your code should be relatively easy-to-read, sensibly commented, and clean. Writing code is a messy process, so please be sure to edit your final submission. Remove any cells that are not needed or parts of cells that contain unnecessary code. Remove inessential `import` statements and make sure that all such statements are moved into the designated cell. \n",
    "\n",
    "Make use of non-code cells for written commentary. These cells should be grammatical and clearly written. In some of these cells you will have questions to answer. The questions will be marked by a \"Q:\" and will have a corresponding \"A:\" spot for you. *Make sure to answer every question marked with a `Q:` for full credit.* \n"
   ]
  },
  {
   "cell_type": "code",
   "execution_count": 1,
   "metadata": {},
   "outputs": [],
   "source": [
    "import os\n",
    "import re\n",
    "import emoji\n",
    "import pandas as pd\n",
    "import numpy as np\n",
    "\n",
    "from collections import Counter, defaultdict\n",
    "from nltk.corpus import stopwords\n",
    "from string import punctuation\n",
    "\n",
    "sw = stopwords.words(\"english\")"
   ]
  },
  {
   "cell_type": "code",
   "execution_count": 145,
   "metadata": {},
   "outputs": [],
   "source": [
    "import regex\n",
    "import nltk"
   ]
  },
  {
   "cell_type": "code",
   "execution_count": 147,
   "metadata": {},
   "outputs": [],
   "source": [
    "# Add any additional import statements you need here\n",
    "#%run \"$BASE_DIR/settings.py\"\n",
    "\n",
    "%reload_ext autoreload\n",
    "%autoreload 2\n",
    "%config InlineBackend.figure_format = 'png'"
   ]
  },
  {
   "cell_type": "code",
   "execution_count": 148,
   "metadata": {},
   "outputs": [],
   "source": [
    "# change `data_location` to the location of the folder on your machine.\n",
    "#data_location = \"/users/chandler/dropbox/teaching/repos/ads-tm-api-scrape/\"\n",
    "\n",
    "data_location = \"/UserData/z003cu8m/OneDrive - Siemens AG/Documents/Documents/Documents/Siemens/Computer Backup/Personal/MSADS/Text Mining/Week two/M1 Assignment Data/M1 Results/\"\n",
    "\n",
    "# These subfolders should still work if you correctly stored the \n",
    "# data from the Module 1 assignment\n",
    "twitter_folder = \"twitter/\"\n",
    "lyrics_folder = \"lyrics/\""
   ]
  },
  {
   "cell_type": "code",
   "execution_count": 149,
   "metadata": {},
   "outputs": [],
   "source": [
    "def descriptive_stats(tokens, num_tokens = 5, verbose=True) :\n",
    "    \"\"\"\n",
    "        Given a list of tokens, print number of tokens, number of unique tokens, \n",
    "        number of characters, lexical diversity (https://en.wikipedia.org/wiki/Lexical_diversity), \n",
    "        and num_tokens most common tokens. Return a list with the number of tokens, number\n",
    "        of unique tokens, lexical diversity, and number of characters. \n",
    "    \n",
    "    \"\"\"\n",
    "\n",
    "    # Fill in the correct values here. \n",
    "    num_tokens = 13\n",
    "    num_unique_tokens = 9\n",
    "    lexical_diversity = 0.69\n",
    "    num_characters = 55\n",
    "    \n",
    "    if verbose :        \n",
    "        print(f\"There are {num_tokens} tokens in the data.\")\n",
    "        print(f\"There are {num_unique_tokens} unique tokens in the data.\")\n",
    "        print(f\"There are {num_characters} characters in the data.\")\n",
    "        print(f\"The lexical diversity is {lexical_diversity:.3f} in the data.\")\n",
    "    \n",
    "        # print the five most common tokens\n",
    "        \n",
    "    return([num_tokens, num_unique_tokens,\n",
    "            lexical_diversity,\n",
    "            num_characters])\n",
    "    "
   ]
  },
  {
   "cell_type": "code",
   "execution_count": 150,
   "metadata": {},
   "outputs": [
    {
     "name": "stdout",
     "output_type": "stream",
     "text": [
      "There are 13 tokens in the data.\n",
      "There are 9 unique tokens in the data.\n",
      "There are 55 characters in the data.\n",
      "The lexical diversity is 0.690 in the data.\n"
     ]
    }
   ],
   "source": [
    "text = \"\"\"here is some example text with other example text here in this text\"\"\".split()\n",
    "assert(descriptive_stats(text, verbose=True)[0] == 13)\n",
    "assert(descriptive_stats(text, verbose=False)[1] == 9)\n",
    "assert(descriptive_stats(text, verbose=False)[3] == 55)\n",
    "assert(abs(descriptive_stats(text, verbose=False)[2] - 0.69) < 0.02)"
   ]
  },
  {
   "cell_type": "markdown",
   "metadata": {},
   "source": [
    "Q: Why is it beneficial to use assertion statements in your code? \n",
    "\n",
    "A: <!-- Your answer here --> "
   ]
  },
  {
   "cell_type": "markdown",
   "metadata": {},
   "source": [
    "## Data Input\n",
    "\n",
    "Now read in each of the corpora. For the lyrics data, it may be convenient to store the entire contents of the file to make it easier to inspect the titles individually, as you'll do in the last part of the assignment. In the solution, I stored the lyrics data in a dictionary with two dimensions of keys: artist and song. The value was the file contents. A data frame would work equally well. \n",
    "\n",
    "For the Twitter data, we only need the description field for this assignment. Feel free all the descriptions read it into a data structure. In the solution, I stored the descriptions as a dictionary of lists, with the key being the artist. \n",
    "\n",
    "\n"
   ]
  },
  {
   "cell_type": "code",
   "execution_count": 167,
   "metadata": {},
   "outputs": [
    {
     "name": "stdout",
     "output_type": "stream",
     "text": [
      "\"Angels Running\"\n",
      "\n",
      "\n",
      "\n",
      "Well I heard enough \n",
      "And I've seen enough\n",
      "And I know anough to know \n",
      "I know a good thing when I see it\n",
      "And it's a bad thing to let go\n",
      "\n",
      "Weel I've been around \n",
      "I've been up and down \n",
      "Until I bailed out of control \n",
      "With your world all in motion\n",
      "Gonna put a ball\n",
      "And chain on your soul \n",
      "\n",
      "All those angels running \n",
      "Picking up the pieces \n",
      "Putting hearts togheter \n",
      "Broke long ago \n",
      "I know a good thing when I see it \n",
      "And it's a bad thing to let go \n",
      "\n",
      "We'll always be lovers \n",
      "With borders of there own \n",
      "And you may charge across \n",
      "In a golden chariot \n",
      "But you will never be at home \n",
      "\n",
      "'Cause I had dreams \n",
      "Like distant thunder\n",
      "I had hope like a prayer unheard \n",
      "This nothing less than perfect\n",
      "In a less than perfect world \n",
      "\n",
      "All those angles running \n",
      "Picking up the pieces \n",
      "Putting back togheter \n",
      "Hearts broke long ago \n",
      "I know a good thing when I see it \n",
      "And it's a bad thing to let go \n",
      "It's a bad thing to let go \n",
      "It's a bad thing.\n",
      "\n"
     ]
    }
   ],
   "source": [
    "# Read in the lyrics data\n",
    "\n",
    "# Cher lyrics\n",
    "\n",
    "with open(\"C:/Users/z003cu8m/Desktop/cher_angelsrunning.txt\") as f:\n",
    "    cher_lyrics = f.read()\n",
    "    print(cher_lyrics)"
   ]
  },
  {
   "cell_type": "code",
   "execution_count": 168,
   "metadata": {},
   "outputs": [
    {
     "name": "stdout",
     "output_type": "stream",
     "text": [
      "\"Anytime You Like\"\n",
      "\n",
      "\n",
      "\n",
      "It's like you're waiting for me to start\n",
      "There's no right moment to break my heart\n",
      "Boy you can tell me any time you like\n",
      "\n",
      "We could talk any day of the week\n",
      "I cry myself to sleep in my pink silk sheets\n",
      "Boy you can tell me any time you like\n",
      "Boy you can tell me any time you like\n",
      "\n",
      "Under pressure, alright\n",
      "Under pressure, you and I\n",
      "Under pressure, love is uptight\n",
      "Under pressure, yeah\n",
      "\n",
      "I keep quiet and hope you forget\n",
      "You know that kitchen table, let's buy it\n",
      "Boy you can tell me anytime you like, anytime\n",
      "\n",
      "If I was brave I wouldn't keep my mouth shut\n",
      "But I'm selfish, I don't wanna give you up\n",
      "Boy you can tell me anytime you like\n",
      "Boy you can tell me anytime you like\n",
      "\n",
      "Under pressure, alright\n",
      "Under pressure, you and I\n",
      "Under pressure, love is uptight\n",
      "Under pressure, yeah\n",
      "Under pressure, yeah\n",
      "Under pressure, alright\n",
      "Under pressure, you and I\n",
      "Under pressure, this love is uptight\n",
      "Under pressure, yeah\n",
      "\n",
      "Hey baby\n",
      "(How ya doin'?)\n",
      "How was your day?\n",
      "What ya doin'?\n",
      "(I said I love you)\n",
      "What ya thinkin' about?\n",
      "(What ya thinkin' about?)\n",
      "Tell me what's on your mind\n",
      "Won't you tell me what's on your mind\n",
      "I love you so much, mhmm\n",
      "\n",
      "Boy you can tell me...\n",
      "Boy you can tell me any time you like\n",
      "\n"
     ]
    }
   ],
   "source": [
    "# Robyn lyrics\n",
    "\n",
    "with open(\"C:/Users/z003cu8m/Desktop/robyn_anytimeyoulike.txt\") as f:\n",
    "    robyn_lyrics = f.read()\n",
    "    print(robyn_lyrics)"
   ]
  },
  {
   "cell_type": "code",
   "execution_count": 83,
   "metadata": {},
   "outputs": [
    {
     "data": {
      "text/html": [
       "<div>\n",
       "<style scoped>\n",
       "    .dataframe tbody tr th:only-of-type {\n",
       "        vertical-align: middle;\n",
       "    }\n",
       "\n",
       "    .dataframe tbody tr th {\n",
       "        vertical-align: top;\n",
       "    }\n",
       "\n",
       "    .dataframe thead th {\n",
       "        text-align: right;\n",
       "    }\n",
       "</style>\n",
       "<table border=\"1\" class=\"dataframe\">\n",
       "  <thead>\n",
       "    <tr style=\"text-align: right;\">\n",
       "      <th></th>\n",
       "      <th>description\\t\\t\\t\\t\\t</th>\n",
       "    </tr>\n",
       "  </thead>\n",
       "  <tbody>\n",
       "    <tr>\n",
       "      <th>0</th>\n",
       "      <td>𝙿𝚛𝚘𝚞𝚍 𝚜𝚞𝚙𝚙𝚘𝚛𝚝𝚎𝚛 𝚘𝚏 𝚖𝚎𝚜𝚜𝚢 𝚋𝚞𝚗𝚜 &amp; 𝚕𝚎𝚐𝚐𝚒𝚗𝚐𝚜\\t\\t\\t...</td>\n",
       "    </tr>\n",
       "    <tr>\n",
       "      <th>1</th>\n",
       "      <td>163㎝／愛かっぷ💜26歳🍒 工〇好きな女の子💓 フォローしてくれたらDMします🧡\\t\\t\\...</td>\n",
       "    </tr>\n",
       "    <tr>\n",
       "      <th>2</th>\n",
       "      <td>csu\\t\\t\\t\\t\\t</td>\n",
       "    </tr>\n",
       "    <tr>\n",
       "      <th>3</th>\n",
       "      <td>Writer @Washinformer @SpelmanCollege alumna #D...</td>\n",
       "    </tr>\n",
       "    <tr>\n",
       "      <th>4</th>\n",
       "      <td>I’m unemployed and live with my parents. MOOPS...</td>\n",
       "    </tr>\n",
       "    <tr>\n",
       "      <th>5</th>\n",
       "      <td>zoowee mama\\t\\t\\t\\t\\t</td>\n",
       "    </tr>\n",
       "    <tr>\n",
       "      <th>6</th>\n",
       "      <td>Let the healing begin. Let us learn from the p...</td>\n",
       "    </tr>\n",
       "    <tr>\n",
       "      <th>7</th>\n",
       "      <td>do what thou wilt. 🖤✨\\t\\t\\t\\t\\t</td>\n",
       "    </tr>\n",
       "    <tr>\n",
       "      <th>8</th>\n",
       "      <td>Curious Canadian Contemplator. She/Her. Sexage...</td>\n",
       "    </tr>\n",
       "    <tr>\n",
       "      <th>9</th>\n",
       "      <td>(She/Her/Hers) Feminist. LGBTQ+. BLM. Mental h...</td>\n",
       "    </tr>\n",
       "    <tr>\n",
       "      <th>10</th>\n",
       "      <td>IG: @browsbyluz_\\t\\t\\t\\t\\t</td>\n",
       "    </tr>\n",
       "    <tr>\n",
       "      <th>11</th>\n",
       "      <td>BLM I LOVE 80'S VIVA MÉXICO\\t\\t\\t\\t\\t</td>\n",
       "    </tr>\n",
       "    <tr>\n",
       "      <th>12</th>\n",
       "      <td>Ubuntu to Mudita 🧩 INFP🌻\\t\\t\\t\\t\\t</td>\n",
       "    </tr>\n",
       "  </tbody>\n",
       "</table>\n",
       "</div>"
      ],
      "text/plain": [
       "                                description\\t\\t\\t\\t\\t\n",
       "0   𝙿𝚛𝚘𝚞𝚍 𝚜𝚞𝚙𝚙𝚘𝚛𝚝𝚎𝚛 𝚘𝚏 𝚖𝚎𝚜𝚜𝚢 𝚋𝚞𝚗𝚜 & 𝚕𝚎𝚐𝚐𝚒𝚗𝚐𝚜\\t\\t\\t...\n",
       "1   163㎝／愛かっぷ💜26歳🍒 工〇好きな女の子💓 フォローしてくれたらDMします🧡\\t\\t\\...\n",
       "2                                       csu\\t\\t\\t\\t\\t\n",
       "3   Writer @Washinformer @SpelmanCollege alumna #D...\n",
       "4   I’m unemployed and live with my parents. MOOPS...\n",
       "5                               zoowee mama\\t\\t\\t\\t\\t\n",
       "6   Let the healing begin. Let us learn from the p...\n",
       "7                     do what thou wilt. 🖤✨\\t\\t\\t\\t\\t\n",
       "8   Curious Canadian Contemplator. She/Her. Sexage...\n",
       "9   (She/Her/Hers) Feminist. LGBTQ+. BLM. Mental h...\n",
       "10                         IG: @browsbyluz_\\t\\t\\t\\t\\t\n",
       "11              BLM I LOVE 80'S VIVA MÉXICO\\t\\t\\t\\t\\t\n",
       "12                 Ubuntu to Mudita 🧩 INFP🌻\\t\\t\\t\\t\\t"
      ]
     },
     "execution_count": 83,
     "metadata": {},
     "output_type": "execute_result"
    }
   ],
   "source": [
    "# Read in the twitter data\n",
    "\n",
    "twitter_data_cher = pd.read_csv(r\"C:/UserData/z003cu8m/OneDrive - Siemens AG/Documents/Documents/Documents/Siemens/Computer Backup/Personal/MSADS/Text Mining/Week two/M1 Assignment Data/M1 Results/twitter/sample_cher_data_followers.txt\")\n",
    "twitter_data_cher"
   ]
  },
  {
   "cell_type": "markdown",
   "metadata": {},
   "source": [
    "#### Convert into a list"
   ]
  },
  {
   "cell_type": "code",
   "execution_count": 151,
   "metadata": {},
   "outputs": [
    {
     "name": "stdout",
     "output_type": "stream",
     "text": [
      "[['𝙿𝚛𝚘𝚞𝚍 𝚜𝚞𝚙𝚙𝚘𝚛𝚝𝚎𝚛 𝚘𝚏 𝚖𝚎𝚜𝚜𝚢 𝚋𝚞𝚗𝚜 & 𝚕𝚎𝚐𝚐𝚒𝚗𝚐𝚜\\t\\t\\t\\t\\t'], ['163㎝／愛かっぷ💜26歳🍒 工〇好きな女の子💓 フォローしてくれたらDMします🧡\\t\\t\\t\\t\\t'], ['csu\\t\\t\\t\\t\\t'], ['Writer @Washinformer @SpelmanCollege alumna #DCnative Award-winning journalist & PR pro @IABC Fellow & Past Chair IG: bcscomm Email: wibsiler@gmail.com\\t\\t\\t\\t\\t'], ['I’m unemployed and live with my parents. MOOPS!\\t\\t\\t\\t\\t'], ['zoowee mama\\t\\t\\t\\t\\t'], ['Let the healing begin. Let us learn from the past. 🇨🇦 follower of #TheResistance\\t\\t\\t\\t\\t'], ['do what thou wilt. 🖤✨\\t\\t\\t\\t\\t'], ['Curious Canadian Contemplator. She/Her. Sexagenarian. We are here for each other!\\t\\t\\t\\t\\t'], ['(She/Her/Hers) Feminist. LGBTQ+. BLM. Mental health advocate. Do something nice for somebody today :)\\t\\t\\t\\t\\t'], ['IG: @browsbyluz_\\t\\t\\t\\t\\t'], [\"BLM I LOVE 80'S VIVA MÉXICO\\t\\t\\t\\t\\t\"], ['Ubuntu to Mudita 🧩 INFP🌻\\t\\t\\t\\t\\t']]\n"
     ]
    }
   ],
   "source": [
    "twitter_data_cher_list = twitter_data_cher.values.tolist()\n",
    "print(twitter_data_cher_list)"
   ]
  },
  {
   "cell_type": "code",
   "execution_count": 113,
   "metadata": {},
   "outputs": [
    {
     "data": {
      "text/html": [
       "<div>\n",
       "<style scoped>\n",
       "    .dataframe tbody tr th:only-of-type {\n",
       "        vertical-align: middle;\n",
       "    }\n",
       "\n",
       "    .dataframe tbody tr th {\n",
       "        vertical-align: top;\n",
       "    }\n",
       "\n",
       "    .dataframe thead th {\n",
       "        text-align: right;\n",
       "    }\n",
       "</style>\n",
       "<table border=\"1\" class=\"dataframe\">\n",
       "  <thead>\n",
       "    <tr style=\"text-align: right;\">\n",
       "      <th></th>\n",
       "      <th>description\\t\\t\\t\\t\\t\\t</th>\n",
       "    </tr>\n",
       "  </thead>\n",
       "  <tbody>\n",
       "    <tr>\n",
       "      <th>0</th>\n",
       "      <td>I love chill •Facebook / Instagram / SoundClou...</td>\n",
       "    </tr>\n",
       "    <tr>\n",
       "      <th>1</th>\n",
       "      <td>(Am)auteur en herbe 🌱 - juriste en paille 🤡 - ...</td>\n",
       "    </tr>\n",
       "    <tr>\n",
       "      <th>2</th>\n",
       "      <td>Recording Artist / songwriter 🌈 Fashion Stylis...</td>\n",
       "    </tr>\n",
       "    <tr>\n",
       "      <th>3</th>\n",
       "      <td>🇲🇽|🏳️‍🌈\\t\\t\\t\\t\\t\\t</td>\n",
       "    </tr>\n",
       "    <tr>\n",
       "      <th>4</th>\n",
       "      <td>🚀🐕Check 👀t SnoopDogeMeme 🐕🚀 🔥🔥🐢 T M N T 🐢🔥🔥 Mu...</td>\n",
       "    </tr>\n",
       "    <tr>\n",
       "      <th>5</th>\n",
       "      <td>References Available Upon Request\\t\\t\\t\\t\\t\\t</td>\n",
       "    </tr>\n",
       "    <tr>\n",
       "      <th>6</th>\n",
       "      <td>DJ Cristal Chiou\\t\\t\\t\\t\\t\\t</td>\n",
       "    </tr>\n",
       "    <tr>\n",
       "      <th>7</th>\n",
       "      <td>Half mad Jade and shabby cabbie. Old and tired...</td>\n",
       "    </tr>\n",
       "    <tr>\n",
       "      <th>8</th>\n",
       "      <td>Bro.</td>\n",
       "    </tr>\n",
       "  </tbody>\n",
       "</table>\n",
       "</div>"
      ],
      "text/plain": [
       "                             description\\t\\t\\t\\t\\t\\t\n",
       "0  I love chill •Facebook / Instagram / SoundClou...\n",
       "1  (Am)auteur en herbe 🌱 - juriste en paille 🤡 - ...\n",
       "2  Recording Artist / songwriter 🌈 Fashion Stylis...\n",
       "3                                🇲🇽|🏳️‍🌈\\t\\t\\t\\t\\t\\t\n",
       "4  🚀🐕Check 👀t SnoopDogeMeme 🐕🚀 🔥🔥🐢 T M N T 🐢🔥🔥 Mu...\n",
       "5      References Available Upon Request\\t\\t\\t\\t\\t\\t\n",
       "6                       DJ Cristal Chiou\\t\\t\\t\\t\\t\\t\n",
       "7  Half mad Jade and shabby cabbie. Old and tired...\n",
       "8                                               Bro."
      ]
     },
     "execution_count": 113,
     "metadata": {},
     "output_type": "execute_result"
    }
   ],
   "source": [
    "twitter_data_robynkonichiwa = pd.read_csv(r\"C:/UserData/z003cu8m/OneDrive - Siemens AG/Documents/Documents/Documents/Siemens/Computer Backup/Personal/MSADS/Text Mining/Week two/M1 Assignment Data/M1 Results/twitter/sample_robynkonichiwa_followers_data.txt\")\n",
    "twitter_data_robynkonichiwa"
   ]
  },
  {
   "cell_type": "markdown",
   "metadata": {},
   "source": [
    "#### Convert into a list"
   ]
  },
  {
   "cell_type": "code",
   "execution_count": 114,
   "metadata": {},
   "outputs": [
    {
     "name": "stdout",
     "output_type": "stream",
     "text": [
      "[['I love chill •Facebook / Instagram / SoundCloud: AngelxoArts• https://t.co/447okKLKzA…'], ['(Am)auteur en herbe 🌱 - juriste en paille 🤡 - Ami des fleurs 🌸🌈 (sans la main verte) - music & books - #morecomingsoon... (si on en voit le bout)\\t\\t\\t\\t\\t\\t'], ['Recording Artist / songwriter 🌈 Fashion Stylist of The Floral House Boutique / CEO Of Arcade Mode Records / Actor\\t\\t\\t\\t\\t\\t'], ['🇲🇽|🏳️\\u200d🌈\\t\\t\\t\\t\\t\\t'], ['🚀🐕Check 👀t SnoopDogeMeme 🐕🚀 🔥🔥🐢 T M N T 🐢🔥🔥 Music enthusiast! Musician. Writer. Artist. Humanitarian. Animal lover. NFT Lover.\\t\\t\\t\\t\\t\\t'], ['References Available Upon Request\\t\\t\\t\\t\\t\\t'], ['DJ Cristal Chiou\\t\\t\\t\\t\\t\\t'], ['Half mad Jade and shabby cabbie. Old and tired but at least I am immune to teargas. All Trek is good Trek. Doom Patrol is life.\\t\\t\\t\\t\\t\\t'], ['Bro.']]\n"
     ]
    }
   ],
   "source": [
    "twitter_data_robynkonichiwa_list = twitter_data_robynkonichiwa.values.tolist()\n",
    "print(twitter_data_robynkonichiwa_list)"
   ]
  },
  {
   "cell_type": "markdown",
   "metadata": {},
   "source": [
    "## Data Cleaning\n",
    "\n",
    "Now clean and tokenize your data. Remove punctuation chacters (available in the `punctuation` object in the `string` library), split on whitespace, fold to lowercase, and remove stopwords. Store your cleaned data, which must be accessible as an interable for `descriptive_stats`, in new objects or in new columns in your data frame. \n",
    "\n"
   ]
  },
  {
   "cell_type": "code",
   "execution_count": 27,
   "metadata": {},
   "outputs": [],
   "source": [
    "punctuation = set(punctuation) # speeds up comparison"
   ]
  },
  {
   "cell_type": "code",
   "execution_count": 191,
   "metadata": {},
   "outputs": [],
   "source": [
    "# create your clean twitter data here\n",
    "\n",
    "import numpy as np\n",
    "import re\n",
    "\n",
    "def clean_tweet(tweet):\n",
    "    if type(tweet) == np.float:\n",
    "        return \"\"\n",
    "    temp = tweet.lower()\n",
    "    temp = re.sub(\"'\", \"\", temp) # to avoid removing contractions in english\n",
    "    temp = re.sub(\"@[A-Za-z0-9_]+\",\"\", temp)\n",
    "    temp = re.sub(\"#[A-Za-z0-9_]+\",\"\", temp)\n",
    "    temp = re.sub(r'http\\S+', '', temp)\n",
    "    temp = re.sub('[()!?]', ' ', temp)\n",
    "    temp = re.sub('\\[.*?\\]',' ', temp)\n",
    "    temp = re.sub(\"[^a-z0-9]\",\" \", temp)\n",
    "    temp = temp.split()\n",
    "    temp = [w for w in temp if not w in stopwords]\n",
    "    temp = \" \".join(word for word in temp)\n",
    "    return temp"
   ]
  },
  {
   "cell_type": "code",
   "execution_count": 196,
   "metadata": {},
   "outputs": [],
   "source": [
    "cher_tweets = [\"\"\"𝙿𝚛𝚘𝚞𝚍 𝚜𝚞𝚙𝚙𝚘𝚛𝚝𝚎𝚛 𝚘𝚏 𝚖𝚎𝚜𝚜𝚢 𝚋𝚞𝚗𝚜 & 𝚕𝚎𝚐𝚐𝚒𝚗𝚐𝚜\\t\\t\\t\\t\\t'], ['163㎝／愛かっぷ💜26歳🍒 工〇好きな女の子💓 フォローしてくれたらDMします🧡\\t\\t\\t\\t\\t'], ['csu\\t\\t\\t\\t\\t'], ['Writer @Washinformer @SpelmanCollege alumna #DCnative Award-winning journalist & PR pro @IABC Fellow & Past Chair IG: bcscomm Email: wibsiler@gmail.com\\t\\t\\t\\t\\t'], ['I’m unemployed and live with my parents. MOOPS!\\t\\t\\t\\t\\t'], ['zoowee mama\\t\\t\\t\\t\\t'], ['Let the healing begin. Let us learn from the past. 🇨🇦 follower of #TheResistance\\t\\t\\t\\t\\t'], ['do what thou wilt. 🖤✨\\t\\t\\t\\t\\t'], ['Curious Canadian Contemplator. She/Her. Sexagenarian. We are here for each other!\\t\\t\\t\\t\\t'], ['(She/Her/Hers) Feminist. LGBTQ+. BLM. Mental health advocate. Do something nice for somebody today :)\\t\\t\\t\\t\\t'], ['IG: @browsbyluz_\\t\\t\\t\\t\\t'], [\"BLM I LOVE 80'S VIVA MÉXICO\\t\\t\\t\\t\\t\"], ['Ubuntu to Mudita 🧩 INFP🌻\\t\\t\\t\\t\\t\"\"\"]\n",
    "cher_results = [clean_tweet(tw) for tw in tweets]"
   ]
  },
  {
   "cell_type": "code",
   "execution_count": 197,
   "metadata": {},
   "outputs": [],
   "source": [
    "robyn_tweets = [\"\"\"I love chill •Facebook / Instagram / SoundCloud: AngelxoArts• https://t.co/447okKLKzA…'], ['(Am)auteur en herbe 🌱 - juriste en paille 🤡 - Ami des fleurs 🌸🌈 (sans la main verte) - music & books - #morecomingsoon... (si on en voit le bout)\\t\\t\\t\\t\\t\\t'], ['Recording Artist / songwriter 🌈 Fashion Stylist of The Floral House Boutique / CEO Of Arcade Mode Records / Actor\\t\\t\\t\\t\\t\\t'], ['🇲🇽|🏳️\\u200d🌈\\t\\t\\t\\t\\t\\t'], ['🚀🐕Check 👀t SnoopDogeMeme 🐕🚀 🔥🔥🐢 T M N T 🐢🔥🔥 Music enthusiast! Musician. Writer. Artist. Humanitarian. Animal lover. NFT Lover.\\t\\t\\t\\t\\t\\t'], ['References Available Upon Request\\t\\t\\t\\t\\t\\t'], ['DJ Cristal Chiou\\t\\t\\t\\t\\t\\t'], ['Half mad Jade and shabby cabbie. Old and tired but at least I am immune to teargas. All Trek is good Trek. Doom Patrol is life.\\t\\t\\t\\t\\t\\t'], ['Bro.\"\"\"]\n",
    "robyn_results = [clean_tweet(tw) for tw in tweets]"
   ]
  },
  {
   "cell_type": "markdown",
   "metadata": {},
   "source": [
    "### Cleaning Cher lyrics"
   ]
  },
  {
   "cell_type": "code",
   "execution_count": 8,
   "metadata": {},
   "outputs": [],
   "source": [
    "# create your clean lyrics data here\n",
    "\n",
    "import regex as re\n",
    "\n",
    "def tokenize(text_cher_lyrics):\n",
    "    return re.findall(r'[\\w-]*\\p{L}[\\w-]*', text_cher_lyrics)"
   ]
  },
  {
   "cell_type": "markdown",
   "metadata": {},
   "source": [
    "### Stopwords"
   ]
  },
  {
   "cell_type": "code",
   "execution_count": 32,
   "metadata": {},
   "outputs": [
    {
     "name": "stdout",
     "output_type": "stream",
     "text": [
      "\"Angels Running Well heard enough And I've seen enough And know anough to know know good thing when see it And it's bad thing to let go Weel I've been around I've been up and down Until bailed out of control With your world all in motion Gonna put ball And chain on your soul All those angels running Picking up the pieces Putting hearts togheter Broke long ago know good thing when see it And it's bad thing to let go We'll always be lovers With borders of there own And you may charge across In golden chariot But you will never be at home 'Cause had dreams Like distant thunder had hope like prayer unheard This nothing less than perfect In less than perfect world All those angles running Picking up the pieces Putting back togheter Hearts broke long ago know good thing when see it And it's bad thing to let go It's bad thing to let go It's bad thing.\n"
     ]
    }
   ],
   "source": [
    "stopwords = [\"is\", \"a\", \"I\"]\n",
    "\n",
    "text_cher_lyrics = \"\"\"\"Angels Running\n",
    "\n",
    "Well I heard enough \n",
    "And I've seen enough\n",
    "And I know anough to know \n",
    "I know a good thing when I see it\n",
    "And it's a bad thing to let go\n",
    "\n",
    "Weel I've been around \n",
    "I've been up and down \n",
    "Until I bailed out of control \n",
    "With your world all in motion\n",
    "Gonna put a ball\n",
    "And chain on your soul \n",
    "\n",
    "All those angels running \n",
    "Picking up the pieces \n",
    "Putting hearts togheter \n",
    "Broke long ago \n",
    "I know a good thing when I see it \n",
    "And it's a bad thing to let go \n",
    "\n",
    "We'll always be lovers \n",
    "With borders of there own \n",
    "And you may charge across \n",
    "In a golden chariot \n",
    "But you will never be at home \n",
    "\n",
    "'Cause I had dreams \n",
    "Like distant thunder\n",
    "I had hope like a prayer unheard \n",
    "This nothing less than perfect\n",
    "In a less than perfect world \n",
    "\n",
    "All those angles running \n",
    "Picking up the pieces \n",
    "Putting back togheter \n",
    "Hearts broke long ago \n",
    "I know a good thing when I see it \n",
    "And it's a bad thing to let go \n",
    "It's a bad thing to let go \n",
    "It's a bad thing.\"\"\"\n",
    "\n",
    "tokens = text_cher_lyrics.split()\n",
    "clean_tokens = [t for t in tokens if not t in stopwords]\n",
    "clean_cher_stopwords_text = \" \".join(clean_tokens)\n",
    "print(clean_cher_stopwords_text)"
   ]
  },
  {
   "cell_type": "markdown",
   "metadata": {},
   "source": [
    "### Lowercase"
   ]
  },
  {
   "cell_type": "code",
   "execution_count": 33,
   "metadata": {},
   "outputs": [
    {
     "name": "stdout",
     "output_type": "stream",
     "text": [
      "angels running well heard enough and i've seen enough and know anough to know know good thing when see it and it's bad thing to let go weel i've been around i've been up and down until bailed out of control with your world all in motion gonna put ball and chain on your soul all those angels running picking up the pieces putting hearts togheter broke long ago know good thing when see it and it's bad thing to let go we'll always be lovers with borders of there own and you may charge across in golden chariot but you will never be at home 'cause had dreams like distant thunder had hope like prayer unheard this nothing less than perfect in less than perfect world all those angles running picking up the pieces putting back togheter hearts broke long ago know good thing when see it and it's bad thing to let go it's bad thing to let go it's bad thing.\n"
     ]
    }
   ],
   "source": [
    "clean_cher_lyrics = str.lower(\"Angels Running Well heard enough And I've seen enough And know anough to know know good thing when see it And it's bad thing to let go Weel I've been around I've been up and down Until bailed out of control With your world all in motion Gonna put ball And chain on your soul All those angels running Picking up the pieces Putting hearts togheter Broke long ago know good thing when see it And it's bad thing to let go We'll always be lovers With borders of there own And you may charge across In golden chariot But you will never be at home 'Cause had dreams Like distant thunder had hope like prayer unheard This nothing less than perfect In less than perfect world All those angles running Picking up the pieces Putting back togheter Hearts broke long ago know good thing when see it And it's bad thing to let go It's bad thing to let go It's bad thing.\")\n",
    "                              \n",
    "print(clean_cher_lyrics)"
   ]
  },
  {
   "cell_type": "markdown",
   "metadata": {},
   "source": [
    "### Split on whitespace"
   ]
  },
  {
   "cell_type": "code",
   "execution_count": 35,
   "metadata": {},
   "outputs": [
    {
     "name": "stdout",
     "output_type": "stream",
     "text": [
      "['angels', 'running', 'well', 'heard', 'enough', 'and', \"i've\", 'seen', 'enough', 'and', 'know', 'anough', 'to', 'know', 'know', 'good', 'thing', 'when', 'see', 'it', 'and', \"it's\", 'bad', 'thing', 'to', 'let', 'go', 'weel', \"i've\", 'been', 'around', \"i've\", 'been', 'up', 'and', 'down', 'until', 'bailed', 'out', 'of', 'control', 'with', 'your', 'world', 'all', 'in', 'motion', 'gonna', 'put', 'ball', 'and', 'chain', 'on', 'your', 'soul', 'all', 'those', 'angels', 'running', 'picking', 'up', 'the', 'pieces', 'putting', 'hearts', 'togheter', 'broke', 'long', 'ago', 'know', 'good', 'thing', 'when', 'see', 'it', 'and', \"it's\", 'bad', 'thing', 'to', 'let', 'go', \"we'll\", 'always', 'be', 'lovers', 'with', 'borders', 'of', 'there', 'own', 'and', 'you', 'may', 'charge', 'across', 'in', 'golden', 'chariot', 'but', 'you', 'will', 'never', 'be', 'at', 'home', \"'cause\", 'had', 'dreams', 'like', 'distant', 'thunder', 'had', 'hope', 'like', 'prayer', 'unheard', 'this', 'nothing', 'less', 'than', 'perfect', 'in', 'less', 'than', 'perfect', 'world', 'all', 'those', 'angles', 'running', 'picking', 'up', 'the', 'pieces', 'putting', 'back', 'togheter', 'hearts', 'broke', 'long', 'ago', 'know', 'good', 'thing', 'when', 'see', 'it', 'and', \"it's\", 'bad', 'thing', 'to', 'let', 'go', \"it's\", 'bad', 'thing', 'to', 'let', 'go', \"it's\", 'bad', 'thing']\n"
     ]
    }
   ],
   "source": [
    "folding_cher_text_split = '''angels running well heard enough and i've seen enough and know anough to know know good thing when see it and it's bad thing to let go weel i've been around i've been up and down until bailed out of control with your world all in motion gonna put ball and chain on your soul all those angels running picking up the pieces putting hearts togheter broke long ago know good thing when see it and it's bad thing to let go we'll always be lovers with borders of there own and you may charge across in golden chariot but you will never be at home 'cause had dreams like distant thunder had hope like prayer unheard this nothing less than perfect in less than perfect world all those angles running picking up the pieces putting back togheter hearts broke long ago know good thing when see it and it's bad thing to let go it's bad thing to let go it's bad thing'''.split()\n",
    "\n",
    "print(folding_cher_text_split)"
   ]
  },
  {
   "cell_type": "code",
   "execution_count": 174,
   "metadata": {},
   "outputs": [
    {
     "data": {
      "text/html": [
       "<div>\n",
       "<style scoped>\n",
       "    .dataframe tbody tr th:only-of-type {\n",
       "        vertical-align: middle;\n",
       "    }\n",
       "\n",
       "    .dataframe tbody tr th {\n",
       "        vertical-align: top;\n",
       "    }\n",
       "\n",
       "    .dataframe thead th {\n",
       "        text-align: right;\n",
       "    }\n",
       "</style>\n",
       "<table border=\"1\" class=\"dataframe\">\n",
       "  <thead>\n",
       "    <tr style=\"text-align: right;\">\n",
       "      <th></th>\n",
       "      <th>lyrics_words</th>\n",
       "    </tr>\n",
       "  </thead>\n",
       "  <tbody>\n",
       "    <tr>\n",
       "      <th>0</th>\n",
       "      <td>angels</td>\n",
       "    </tr>\n",
       "    <tr>\n",
       "      <th>1</th>\n",
       "      <td>running</td>\n",
       "    </tr>\n",
       "    <tr>\n",
       "      <th>2</th>\n",
       "      <td>well</td>\n",
       "    </tr>\n",
       "    <tr>\n",
       "      <th>3</th>\n",
       "      <td>heard</td>\n",
       "    </tr>\n",
       "    <tr>\n",
       "      <th>4</th>\n",
       "      <td>enough</td>\n",
       "    </tr>\n",
       "    <tr>\n",
       "      <th>5</th>\n",
       "      <td>and</td>\n",
       "    </tr>\n",
       "    <tr>\n",
       "      <th>6</th>\n",
       "      <td>i've</td>\n",
       "    </tr>\n",
       "    <tr>\n",
       "      <th>7</th>\n",
       "      <td>seen</td>\n",
       "    </tr>\n",
       "    <tr>\n",
       "      <th>8</th>\n",
       "      <td>enough</td>\n",
       "    </tr>\n",
       "    <tr>\n",
       "      <th>9</th>\n",
       "      <td>and</td>\n",
       "    </tr>\n",
       "  </tbody>\n",
       "</table>\n",
       "</div>"
      ],
      "text/plain": [
       "  lyrics_words\n",
       "0       angels\n",
       "1      running\n",
       "2         well\n",
       "3        heard\n",
       "4       enough\n",
       "5          and\n",
       "6         i've\n",
       "7         seen\n",
       "8       enough\n",
       "9          and"
      ]
     },
     "execution_count": 174,
     "metadata": {},
     "output_type": "execute_result"
    }
   ],
   "source": [
    "df_cher = pd.DataFrame(folding_cher_text_split)\n",
    "df_cher.columns =['lyrics_words']\n",
    "df_cher.head(10)"
   ]
  },
  {
   "cell_type": "markdown",
   "metadata": {},
   "source": [
    "### Removing punctuation and counting the frequesncy of the top words"
   ]
  },
  {
   "cell_type": "code",
   "execution_count": 52,
   "metadata": {},
   "outputs": [
    {
     "data": {
      "text/html": [
       "<div>\n",
       "<style scoped>\n",
       "    .dataframe tbody tr th:only-of-type {\n",
       "        vertical-align: middle;\n",
       "    }\n",
       "\n",
       "    .dataframe tbody tr th {\n",
       "        vertical-align: top;\n",
       "    }\n",
       "\n",
       "    .dataframe thead th {\n",
       "        text-align: right;\n",
       "    }\n",
       "</style>\n",
       "<table border=\"1\" class=\"dataframe\">\n",
       "  <thead>\n",
       "    <tr style=\"text-align: right;\">\n",
       "      <th></th>\n",
       "      <th>Word</th>\n",
       "      <th>Frequency</th>\n",
       "    </tr>\n",
       "  </thead>\n",
       "  <tbody>\n",
       "    <tr>\n",
       "      <th>0</th>\n",
       "      <td>thing</td>\n",
       "      <td>8</td>\n",
       "    </tr>\n",
       "    <tr>\n",
       "      <th>1</th>\n",
       "      <td>and</td>\n",
       "      <td>8</td>\n",
       "    </tr>\n",
       "    <tr>\n",
       "      <th>2</th>\n",
       "      <td>bad</td>\n",
       "      <td>5</td>\n",
       "    </tr>\n",
       "    <tr>\n",
       "      <th>3</th>\n",
       "      <td>know</td>\n",
       "      <td>5</td>\n",
       "    </tr>\n",
       "    <tr>\n",
       "      <th>4</th>\n",
       "      <td>its</td>\n",
       "      <td>5</td>\n",
       "    </tr>\n",
       "    <tr>\n",
       "      <th>...</th>\n",
       "      <td>...</td>\n",
       "      <td>...</td>\n",
       "    </tr>\n",
       "    <tr>\n",
       "      <th>80</th>\n",
       "      <td>ball</td>\n",
       "      <td>1</td>\n",
       "    </tr>\n",
       "    <tr>\n",
       "      <th>81</th>\n",
       "      <td>bailed</td>\n",
       "      <td>1</td>\n",
       "    </tr>\n",
       "    <tr>\n",
       "      <th>82</th>\n",
       "      <td>angles</td>\n",
       "      <td>1</td>\n",
       "    </tr>\n",
       "    <tr>\n",
       "      <th>83</th>\n",
       "      <td>unheard</td>\n",
       "      <td>1</td>\n",
       "    </tr>\n",
       "    <tr>\n",
       "      <th>84</th>\n",
       "      <td>on</td>\n",
       "      <td>1</td>\n",
       "    </tr>\n",
       "  </tbody>\n",
       "</table>\n",
       "<p>85 rows × 2 columns</p>\n",
       "</div>"
      ],
      "text/plain": [
       "       Word  Frequency\n",
       "0     thing          8\n",
       "1       and          8\n",
       "2       bad          5\n",
       "3      know          5\n",
       "4       its          5\n",
       "..      ...        ...\n",
       "80     ball          1\n",
       "81   bailed          1\n",
       "82   angles          1\n",
       "83  unheard          1\n",
       "84       on          1\n",
       "\n",
       "[85 rows x 2 columns]"
      ]
     },
     "execution_count": 52,
     "metadata": {},
     "output_type": "execute_result"
    }
   ],
   "source": [
    "df_cher[\"lyrics_words_new\"] = df_cher['lyrics_words'].str.lower().str.replace('[^\\w\\s]','')\n",
    " \n",
    "new_df_cher_lyrics = df_cher.lyrics_words_new.str.split(expand=True).stack().value_counts().reset_index()\n",
    " \n",
    "new_df_cher_lyrics.columns = ['Word', 'Frequency'] \n",
    " \n",
    "new_df_cher_lyrics"
   ]
  },
  {
   "cell_type": "markdown",
   "metadata": {},
   "source": [
    "### Cleaning Robyn lyrics"
   ]
  },
  {
   "cell_type": "code",
   "execution_count": 170,
   "metadata": {},
   "outputs": [
    {
     "name": "stdout",
     "output_type": "stream",
     "text": [
      "\"\"Anytime You Like It's like you're waiting for me to start There's no right moment to break my heart Boy you can tell me any time you like We could talk any day of the week cry myself to sleep in my pink silk sheets Boy you can tell me any time you like Boy you can tell me any time you like Under pressure, alright Under pressure, you and Under pressure, love uptight Under pressure, yeah keep quiet and hope you forget You know that kitchen table, let's buy it Boy you can tell me anytime you like, anytime If was brave wouldn't keep my mouth shut But I'm selfish, don't wanna give you up Boy you can tell me anytime you like Boy you can tell me anytime you like Under pressure, alright Under pressure, you and Under pressure, love uptight Under pressure, yeah Under pressure, yeah Under pressure, alright Under pressure, you and Under pressure, this love uptight Under pressure, yeah Hey baby (How ya doin'?) How was your day? What ya doin'? (I said love you) What ya thinkin' about? (What ya thinkin' about?) Tell me what's on your mind Won't you tell me what's on your mind love you so much, mhmm Boy you can tell me... Boy you can tell me any time you like .\n"
     ]
    }
   ],
   "source": [
    "stopwords = [\"is\", \"a\", \"I\"]\n",
    "\n",
    "text_robyn_lyrics = \"\"\"\"\"Anytime You Like\n",
    "\n",
    "It's like you're waiting for me to start\n",
    "There's no right moment to break my heart\n",
    "Boy you can tell me any time you like\n",
    "\n",
    "We could talk any day of the week\n",
    "I cry myself to sleep in my pink silk sheets\n",
    "Boy you can tell me any time you like\n",
    "Boy you can tell me any time you like\n",
    "\n",
    "Under pressure, alright\n",
    "Under pressure, you and I\n",
    "Under pressure, love is uptight\n",
    "Under pressure, yeah\n",
    "\n",
    "I keep quiet and hope you forget\n",
    "You know that kitchen table, let's buy it\n",
    "Boy you can tell me anytime you like, anytime\n",
    "\n",
    "If I was brave I wouldn't keep my mouth shut\n",
    "But I'm selfish, I don't wanna give you up\n",
    "Boy you can tell me anytime you like\n",
    "Boy you can tell me anytime you like\n",
    "\n",
    "Under pressure, alright\n",
    "Under pressure, you and I\n",
    "Under pressure, love is uptight\n",
    "Under pressure, yeah\n",
    "Under pressure, yeah\n",
    "Under pressure, alright\n",
    "Under pressure, you and I\n",
    "Under pressure, this love is uptight\n",
    "Under pressure, yeah\n",
    "\n",
    "Hey baby\n",
    "(How ya doin'?)\n",
    "How was your day?\n",
    "What ya doin'?\n",
    "(I said I love you)\n",
    "What ya thinkin' about?\n",
    "(What ya thinkin' about?)\n",
    "Tell me what's on your mind\n",
    "Won't you tell me what's on your mind\n",
    "I love you so much, mhmm\n",
    "\n",
    "Boy you can tell me...\n",
    "Boy you can tell me any time you like\n",
    ".\"\"\"\n",
    "\n",
    "tokens = text_robyn_lyrics.split()\n",
    "clean_tokens = [t for t in tokens if not t in stopwords]\n",
    "clean_robyn_stopwords_text = \" \".join(clean_tokens)\n",
    "print(clean_robyn_stopwords_text)"
   ]
  },
  {
   "cell_type": "markdown",
   "metadata": {},
   "source": [
    "### Lowercase"
   ]
  },
  {
   "cell_type": "code",
   "execution_count": 171,
   "metadata": {},
   "outputs": [
    {
     "name": "stdout",
     "output_type": "stream",
     "text": [
      "anytime you like it's like you're waiting for me to start there's no right moment to break my heart boy you can tell me any time you like we could talk any day of the week cry myself to sleep in my pink silk sheets boy you can tell me any time you like boy you can tell me any time you like under pressure, alright under pressure, you and under pressure, love uptight under pressure, yeah keep quiet and hope you forget you know that kitchen table, let's buy it boy you can tell me anytime you like, anytime if was brave wouldn't keep my mouth shut but i'm selfish, don't wanna give you up boy you can tell me anytime you like boy you can tell me anytime you like under pressure, alright under pressure, you and under pressure, love uptight under pressure, yeah under pressure, yeah under pressure, alright under pressure, you and under pressure, this love uptight under pressure, yeah hey baby (how ya doin'?) how was your day? what ya doin'? (i said love you) what ya thinkin' about? (what ya thinkin' about?) tell me what's on your mind won't you tell me what's on your mind love you so much, mhmm boy you can tell me... boy you can tell me any time you like\n"
     ]
    }
   ],
   "source": [
    "clean_robyn_lyrics = str.lower(\"Anytime You Like It's like you're waiting for me to start There's no right moment to break my heart Boy you can tell me any time you like We could talk any day of the week cry myself to sleep in my pink silk sheets Boy you can tell me any time you like Boy you can tell me any time you like Under pressure, alright Under pressure, you and Under pressure, love uptight Under pressure, yeah keep quiet and hope you forget You know that kitchen table, let's buy it Boy you can tell me anytime you like, anytime If was brave wouldn't keep my mouth shut But I'm selfish, don't wanna give you up Boy you can tell me anytime you like Boy you can tell me anytime you like Under pressure, alright Under pressure, you and Under pressure, love uptight Under pressure, yeah Under pressure, yeah Under pressure, alright Under pressure, you and Under pressure, this love uptight Under pressure, yeah Hey baby (How ya doin'?) How was your day? What ya doin'? (I said love you) What ya thinkin' about? (What ya thinkin' about?) Tell me what's on your mind Won't you tell me what's on your mind love you so much, mhmm Boy you can tell me... Boy you can tell me any time you like\")\n",
    "print(clean_robyn_lyrics)"
   ]
  },
  {
   "cell_type": "markdown",
   "metadata": {},
   "source": [
    "### Split on whitespace"
   ]
  },
  {
   "cell_type": "code",
   "execution_count": 173,
   "metadata": {},
   "outputs": [
    {
     "name": "stdout",
     "output_type": "stream",
     "text": [
      "['anytime', 'you', 'like', \"it's\", 'like', \"you're\", 'waiting', 'for', 'me', 'to', 'start', \"there's\", 'no', 'right', 'moment', 'to', 'break', 'my', 'heart', 'boy', 'you', 'can', 'tell', 'me', 'any', 'time', 'you', 'like', 'we', 'could', 'talk', 'any', 'day', 'of', 'the', 'week', 'cry', 'myself', 'to', 'sleep', 'in', 'my', 'pink', 'silk', 'sheets', 'boy', 'you', 'can', 'tell', 'me', 'any', 'time', 'you', 'like', 'boy', 'you', 'can', 'tell', 'me', 'any', 'time', 'you', 'like', 'under', 'pressure,', 'alright', 'under', 'pressure,', 'you', 'and', 'under', 'pressure,', 'love', 'uptight', 'under', 'pressure,', 'yeah', 'keep', 'quiet', 'and', 'hope', 'you', 'forget', 'you', 'know', 'that', 'kitchen', 'table,', \"let's\", 'buy', 'it', 'boy', 'you', 'can', 'tell', 'me', 'anytime', 'you', 'like,', 'anytime', 'if', 'was', 'brave', \"wouldn't\", 'keep', 'my', 'mouth', 'shut', 'but', \"i'm\", 'selfish,', \"don't\", 'wanna', 'give', 'you', 'up', 'boy', 'you', 'can', 'tell', 'me', 'anytime', 'you', 'like', 'boy', 'you', 'can', 'tell', 'me', 'anytime', 'you', 'like', 'under', 'pressure,', 'alright', 'under', 'pressure,', 'you', 'and', 'under', 'pressure,', 'love', 'uptight', 'under', 'pressure,', 'yeah', 'under', 'pressure,', 'yeah', 'under', 'pressure,', 'alright', 'under', 'pressure,', 'you', 'and', 'under', 'pressure,', 'this', 'love', 'uptight', 'under', 'pressure,', 'yeah', 'hey', 'baby', '(how', 'ya', \"doin'?)\", 'how', 'was', 'your', 'day?', 'what', 'ya', \"doin'?\", '(i', 'said', 'love', 'you)', 'what', 'ya', \"thinkin'\", 'about?', '(what', 'ya', \"thinkin'\", 'about?)', 'tell', 'me', \"what's\", 'on', 'your', 'mind', \"won't\", 'you', 'tell', 'me', \"what's\", 'on', 'your', 'mind', 'love', 'you', 'so', 'much,', 'mhmm', 'boy', 'you', 'can', 'tell', 'me...', 'boy', 'you', 'can', 'tell', 'me', 'any', 'time', 'you', 'like']\n"
     ]
    }
   ],
   "source": [
    "split_robyn_lyrics = \"\"\"anytime you like it's like you're waiting for me to start there's no right moment to break my heart boy you can tell me any time you like we could talk any day of the week cry myself to sleep in my pink silk sheets boy you can tell me any time you like boy you can tell me any time you like under pressure, alright under pressure, you and under pressure, love uptight under pressure, yeah keep quiet and hope you forget you know that kitchen table, let's buy it boy you can tell me anytime you like, anytime if was brave wouldn't keep my mouth shut but i'm selfish, don't wanna give you up boy you can tell me anytime you like boy you can tell me anytime you like under pressure, alright under pressure, you and under pressure, love uptight under pressure, yeah under pressure, yeah under pressure, alright under pressure, you and under pressure, this love uptight under pressure, yeah hey baby (how ya doin'?) how was your day? what ya doin'? (i said love you) what ya thinkin' about? (what ya thinkin' about?) tell me what's on your mind won't you tell me what's on your mind love you so much, mhmm boy you can tell me... boy you can tell me any time you like\"\"\".split()\n",
    "print(split_robyn_lyrics)"
   ]
  },
  {
   "cell_type": "code",
   "execution_count": 175,
   "metadata": {},
   "outputs": [
    {
     "data": {
      "text/html": [
       "<div>\n",
       "<style scoped>\n",
       "    .dataframe tbody tr th:only-of-type {\n",
       "        vertical-align: middle;\n",
       "    }\n",
       "\n",
       "    .dataframe tbody tr th {\n",
       "        vertical-align: top;\n",
       "    }\n",
       "\n",
       "    .dataframe thead th {\n",
       "        text-align: right;\n",
       "    }\n",
       "</style>\n",
       "<table border=\"1\" class=\"dataframe\">\n",
       "  <thead>\n",
       "    <tr style=\"text-align: right;\">\n",
       "      <th></th>\n",
       "      <th>lyrics_words</th>\n",
       "    </tr>\n",
       "  </thead>\n",
       "  <tbody>\n",
       "    <tr>\n",
       "      <th>0</th>\n",
       "      <td>anytime</td>\n",
       "    </tr>\n",
       "    <tr>\n",
       "      <th>1</th>\n",
       "      <td>you</td>\n",
       "    </tr>\n",
       "    <tr>\n",
       "      <th>2</th>\n",
       "      <td>like</td>\n",
       "    </tr>\n",
       "    <tr>\n",
       "      <th>3</th>\n",
       "      <td>it's</td>\n",
       "    </tr>\n",
       "    <tr>\n",
       "      <th>4</th>\n",
       "      <td>like</td>\n",
       "    </tr>\n",
       "    <tr>\n",
       "      <th>5</th>\n",
       "      <td>you're</td>\n",
       "    </tr>\n",
       "    <tr>\n",
       "      <th>6</th>\n",
       "      <td>waiting</td>\n",
       "    </tr>\n",
       "    <tr>\n",
       "      <th>7</th>\n",
       "      <td>for</td>\n",
       "    </tr>\n",
       "    <tr>\n",
       "      <th>8</th>\n",
       "      <td>me</td>\n",
       "    </tr>\n",
       "    <tr>\n",
       "      <th>9</th>\n",
       "      <td>to</td>\n",
       "    </tr>\n",
       "  </tbody>\n",
       "</table>\n",
       "</div>"
      ],
      "text/plain": [
       "  lyrics_words\n",
       "0      anytime\n",
       "1          you\n",
       "2         like\n",
       "3         it's\n",
       "4         like\n",
       "5       you're\n",
       "6      waiting\n",
       "7          for\n",
       "8           me\n",
       "9           to"
      ]
     },
     "execution_count": 175,
     "metadata": {},
     "output_type": "execute_result"
    }
   ],
   "source": [
    "df_robyn = pd.DataFrame(split_robyn_lyrics)\n",
    "df_robyn.columns =['lyrics_words']\n",
    "df_robyn.head(10)"
   ]
  },
  {
   "cell_type": "code",
   "execution_count": 177,
   "metadata": {},
   "outputs": [
    {
     "data": {
      "text/html": [
       "<div>\n",
       "<style scoped>\n",
       "    .dataframe tbody tr th:only-of-type {\n",
       "        vertical-align: middle;\n",
       "    }\n",
       "\n",
       "    .dataframe tbody tr th {\n",
       "        vertical-align: top;\n",
       "    }\n",
       "\n",
       "    .dataframe thead th {\n",
       "        text-align: right;\n",
       "    }\n",
       "</style>\n",
       "<table border=\"1\" class=\"dataframe\">\n",
       "  <thead>\n",
       "    <tr style=\"text-align: right;\">\n",
       "      <th></th>\n",
       "      <th>Word</th>\n",
       "      <th>Frequency</th>\n",
       "    </tr>\n",
       "  </thead>\n",
       "  <tbody>\n",
       "    <tr>\n",
       "      <th>0</th>\n",
       "      <td>you</td>\n",
       "      <td>25</td>\n",
       "    </tr>\n",
       "    <tr>\n",
       "      <th>1</th>\n",
       "      <td>pressure</td>\n",
       "      <td>13</td>\n",
       "    </tr>\n",
       "    <tr>\n",
       "      <th>2</th>\n",
       "      <td>under</td>\n",
       "      <td>13</td>\n",
       "    </tr>\n",
       "    <tr>\n",
       "      <th>3</th>\n",
       "      <td>me</td>\n",
       "      <td>11</td>\n",
       "    </tr>\n",
       "    <tr>\n",
       "      <th>4</th>\n",
       "      <td>tell</td>\n",
       "      <td>10</td>\n",
       "    </tr>\n",
       "  </tbody>\n",
       "</table>\n",
       "</div>"
      ],
      "text/plain": [
       "       Word  Frequency\n",
       "0       you         25\n",
       "1  pressure         13\n",
       "2     under         13\n",
       "3        me         11\n",
       "4      tell         10"
      ]
     },
     "execution_count": 177,
     "metadata": {},
     "output_type": "execute_result"
    }
   ],
   "source": [
    "df_robyn[\"lyrics_words_new\"] = df_robyn['lyrics_words'].str.lower().str.replace('[^\\w\\s]','')\n",
    " \n",
    "new_df_robyn_lyrics = df_robyn.lyrics_words_new.str.split(expand=True).stack().value_counts().reset_index()\n",
    " \n",
    "new_df_robyn_lyrics.columns = ['Word', 'Frequency'] \n",
    " \n",
    "new_df_robyn_lyrics.head()"
   ]
  },
  {
   "cell_type": "markdown",
   "metadata": {},
   "source": [
    "#### Tokenize"
   ]
  },
  {
   "cell_type": "code",
   "execution_count": 169,
   "metadata": {},
   "outputs": [],
   "source": [
    "# nltk.download('stopwords')"
   ]
  },
  {
   "cell_type": "code",
   "execution_count": 15,
   "metadata": {},
   "outputs": [],
   "source": [
    "stopwords = set(nltk.corpus.stopwords.words('english'))"
   ]
  },
  {
   "cell_type": "code",
   "execution_count": 16,
   "metadata": {},
   "outputs": [],
   "source": [
    "def remove_stop(tokens):\n",
    "    return [t for t in tokens if t.lower() not in stopwords]"
   ]
  },
  {
   "cell_type": "code",
   "execution_count": 20,
   "metadata": {},
   "outputs": [],
   "source": [
    "include_stopwords = {'dear', 'regards', 'must', 'would', 'also'}\n",
    "exclude_stopwords = {'a', 'i','and'}\n",
    "\n",
    "stopwords |= include_stopwords\n",
    "stopwords -= exclude_stopwords"
   ]
  },
  {
   "cell_type": "code",
   "execution_count": 25,
   "metadata": {},
   "outputs": [],
   "source": [
    "pipeline = [str.lower, tokenize, remove_stop]\n",
    "\n",
    "def prepare(text_cher_lyrics, pipeline):\n",
    "    tokens = text_cher_lyrics\n",
    "    for transform in pipeline:\n",
    "        tokens = transform(tokens)\n",
    "    return tokens\n",
    "\n",
    "df = prepare(text_cher_lyrics, pipeline)"
   ]
  },
  {
   "cell_type": "markdown",
   "metadata": {},
   "source": [
    "## Basic Descriptive Statistics\n",
    "\n",
    "Call your `descriptive_stats` function on both your lyrics data and your twitter data and for both artists (four total calls). "
   ]
  },
  {
   "cell_type": "markdown",
   "metadata": {},
   "source": [
    "#### Cher Lyrics Stats"
   ]
  },
  {
   "cell_type": "code",
   "execution_count": 54,
   "metadata": {},
   "outputs": [
    {
     "data": {
      "text/html": [
       "<div>\n",
       "<style scoped>\n",
       "    .dataframe tbody tr th:only-of-type {\n",
       "        vertical-align: middle;\n",
       "    }\n",
       "\n",
       "    .dataframe tbody tr th {\n",
       "        vertical-align: top;\n",
       "    }\n",
       "\n",
       "    .dataframe thead th {\n",
       "        text-align: right;\n",
       "    }\n",
       "</style>\n",
       "<table border=\"1\" class=\"dataframe\">\n",
       "  <thead>\n",
       "    <tr style=\"text-align: right;\">\n",
       "      <th></th>\n",
       "      <th>lyrics_words</th>\n",
       "      <th>lyrics_words_new</th>\n",
       "    </tr>\n",
       "  </thead>\n",
       "  <tbody>\n",
       "    <tr>\n",
       "      <th>count</th>\n",
       "      <td>164</td>\n",
       "      <td>164</td>\n",
       "    </tr>\n",
       "    <tr>\n",
       "      <th>unique</th>\n",
       "      <td>86</td>\n",
       "      <td>85</td>\n",
       "    </tr>\n",
       "    <tr>\n",
       "      <th>top</th>\n",
       "      <td>thing</td>\n",
       "      <td>thing</td>\n",
       "    </tr>\n",
       "    <tr>\n",
       "      <th>freq</th>\n",
       "      <td>8</td>\n",
       "      <td>8</td>\n",
       "    </tr>\n",
       "  </tbody>\n",
       "</table>\n",
       "</div>"
      ],
      "text/plain": [
       "       lyrics_words lyrics_words_new\n",
       "count           164              164\n",
       "unique           86               85\n",
       "top           thing            thing\n",
       "freq              8                8"
      ]
     },
     "execution_count": 54,
     "metadata": {},
     "output_type": "execute_result"
    }
   ],
   "source": [
    "df_cher.describe(include='all') "
   ]
  },
  {
   "cell_type": "code",
   "execution_count": 103,
   "metadata": {},
   "outputs": [
    {
     "data": {
      "text/html": [
       "<div>\n",
       "<style scoped>\n",
       "    .dataframe tbody tr th:only-of-type {\n",
       "        vertical-align: middle;\n",
       "    }\n",
       "\n",
       "    .dataframe tbody tr th {\n",
       "        vertical-align: top;\n",
       "    }\n",
       "\n",
       "    .dataframe thead th {\n",
       "        text-align: right;\n",
       "    }\n",
       "</style>\n",
       "<table border=\"1\" class=\"dataframe\">\n",
       "  <thead>\n",
       "    <tr style=\"text-align: right;\">\n",
       "      <th></th>\n",
       "      <th>count</th>\n",
       "      <th>unique</th>\n",
       "      <th>top</th>\n",
       "      <th>freq</th>\n",
       "    </tr>\n",
       "  </thead>\n",
       "  <tbody>\n",
       "    <tr>\n",
       "      <th>lyrics_words</th>\n",
       "      <td>164</td>\n",
       "      <td>86</td>\n",
       "      <td>thing</td>\n",
       "      <td>8</td>\n",
       "    </tr>\n",
       "  </tbody>\n",
       "</table>\n",
       "</div>"
      ],
      "text/plain": [
       "             count unique    top freq\n",
       "lyrics_words   164     86  thing    8"
      ]
     },
     "execution_count": 103,
     "metadata": {},
     "output_type": "execute_result"
    }
   ],
   "source": [
    "df['length'] = df_cher['lyrics_words'].str.len()\n",
    "\n",
    "df_cher[['lyrics_words']].describe(include='O').T"
   ]
  },
  {
   "cell_type": "code",
   "execution_count": 105,
   "metadata": {},
   "outputs": [
    {
     "data": {
      "text/plain": [
       "<matplotlib.axes._subplots.AxesSubplot at 0x16d83066b88>"
      ]
     },
     "execution_count": 105,
     "metadata": {},
     "output_type": "execute_result"
    },
    {
     "data": {
      "image/png": "[encoded data removed]",
      "text/plain": [
       "<Figure size 576x144 with 1 Axes>"
      ]
     },
     "metadata": {
      "needs_background": "light"
     },
     "output_type": "display_data"
    }
   ],
   "source": [
    "df['length'].plot(kind='hist', bins=30, figsize=(8,2))"
   ]
  },
  {
   "cell_type": "code",
   "execution_count": 71,
   "metadata": {},
   "outputs": [
    {
     "name": "stdout",
     "output_type": "stream",
     "text": [
      "173\n",
      "88\n",
      "50.45833333333333\n"
     ]
    }
   ],
   "source": [
    "from lexicalrichness import LexicalRichness\n",
    "lex = LexicalRichness(folding_cher_text)\n",
    "\n",
    "# word count\n",
    "print(lex.words)\n",
    "\n",
    "# unique word count\n",
    "print(lex.terms)\n",
    "\n",
    "# measure of Textual Lexical Diversity (MTLD)\n",
    "print(lex.mtld(threshold=0.72))\n"
   ]
  },
  {
   "cell_type": "markdown",
   "metadata": {},
   "source": [
    "#### Robyn Lyrics Stats"
   ]
  },
  {
   "cell_type": "code",
   "execution_count": 178,
   "metadata": {},
   "outputs": [
    {
     "data": {
      "text/html": [
       "<div>\n",
       "<style scoped>\n",
       "    .dataframe tbody tr th:only-of-type {\n",
       "        vertical-align: middle;\n",
       "    }\n",
       "\n",
       "    .dataframe tbody tr th {\n",
       "        vertical-align: top;\n",
       "    }\n",
       "\n",
       "    .dataframe thead th {\n",
       "        text-align: right;\n",
       "    }\n",
       "</style>\n",
       "<table border=\"1\" class=\"dataframe\">\n",
       "  <thead>\n",
       "    <tr style=\"text-align: right;\">\n",
       "      <th></th>\n",
       "      <th>lyrics_words</th>\n",
       "      <th>lyrics_words_new</th>\n",
       "    </tr>\n",
       "  </thead>\n",
       "  <tbody>\n",
       "    <tr>\n",
       "      <th>count</th>\n",
       "      <td>221</td>\n",
       "      <td>221</td>\n",
       "    </tr>\n",
       "    <tr>\n",
       "      <th>unique</th>\n",
       "      <td>94</td>\n",
       "      <td>86</td>\n",
       "    </tr>\n",
       "    <tr>\n",
       "      <th>top</th>\n",
       "      <td>you</td>\n",
       "      <td>you</td>\n",
       "    </tr>\n",
       "    <tr>\n",
       "      <th>freq</th>\n",
       "      <td>24</td>\n",
       "      <td>25</td>\n",
       "    </tr>\n",
       "  </tbody>\n",
       "</table>\n",
       "</div>"
      ],
      "text/plain": [
       "       lyrics_words lyrics_words_new\n",
       "count           221              221\n",
       "unique           94               86\n",
       "top             you              you\n",
       "freq             24               25"
      ]
     },
     "execution_count": 178,
     "metadata": {},
     "output_type": "execute_result"
    }
   ],
   "source": [
    "df_robyn.describe(include='all') "
   ]
  },
  {
   "cell_type": "code",
   "execution_count": 179,
   "metadata": {},
   "outputs": [
    {
     "data": {
      "text/html": [
       "<div>\n",
       "<style scoped>\n",
       "    .dataframe tbody tr th:only-of-type {\n",
       "        vertical-align: middle;\n",
       "    }\n",
       "\n",
       "    .dataframe tbody tr th {\n",
       "        vertical-align: top;\n",
       "    }\n",
       "\n",
       "    .dataframe thead th {\n",
       "        text-align: right;\n",
       "    }\n",
       "</style>\n",
       "<table border=\"1\" class=\"dataframe\">\n",
       "  <thead>\n",
       "    <tr style=\"text-align: right;\">\n",
       "      <th></th>\n",
       "      <th>count</th>\n",
       "      <th>unique</th>\n",
       "      <th>top</th>\n",
       "      <th>freq</th>\n",
       "    </tr>\n",
       "  </thead>\n",
       "  <tbody>\n",
       "    <tr>\n",
       "      <th>lyrics_words</th>\n",
       "      <td>221</td>\n",
       "      <td>94</td>\n",
       "      <td>you</td>\n",
       "      <td>24</td>\n",
       "    </tr>\n",
       "  </tbody>\n",
       "</table>\n",
       "</div>"
      ],
      "text/plain": [
       "             count unique  top freq\n",
       "lyrics_words   221     94  you   24"
      ]
     },
     "execution_count": 179,
     "metadata": {},
     "output_type": "execute_result"
    }
   ],
   "source": [
    "df['length'] = df_robyn['lyrics_words'].str.len()\n",
    "\n",
    "df_robyn[['lyrics_words']].describe(include='O').T"
   ]
  },
  {
   "cell_type": "markdown",
   "metadata": {},
   "source": [
    "#### Cher Twitter Stats"
   ]
  },
  {
   "cell_type": "code",
   "execution_count": 181,
   "metadata": {},
   "outputs": [
    {
     "data": {
      "text/html": [
       "<div>\n",
       "<style scoped>\n",
       "    .dataframe tbody tr th:only-of-type {\n",
       "        vertical-align: middle;\n",
       "    }\n",
       "\n",
       "    .dataframe tbody tr th {\n",
       "        vertical-align: top;\n",
       "    }\n",
       "\n",
       "    .dataframe thead th {\n",
       "        text-align: right;\n",
       "    }\n",
       "</style>\n",
       "<table border=\"1\" class=\"dataframe\">\n",
       "  <thead>\n",
       "    <tr style=\"text-align: right;\">\n",
       "      <th></th>\n",
       "      <th>description\\t\\t\\t\\t\\t\\t</th>\n",
       "    </tr>\n",
       "  </thead>\n",
       "  <tbody>\n",
       "    <tr>\n",
       "      <th>count</th>\n",
       "      <td>9</td>\n",
       "    </tr>\n",
       "    <tr>\n",
       "      <th>unique</th>\n",
       "      <td>9</td>\n",
       "    </tr>\n",
       "    <tr>\n",
       "      <th>top</th>\n",
       "      <td>DJ Cristal Chiou\\t\\t\\t\\t\\t\\t</td>\n",
       "    </tr>\n",
       "    <tr>\n",
       "      <th>freq</th>\n",
       "      <td>1</td>\n",
       "    </tr>\n",
       "  </tbody>\n",
       "</table>\n",
       "</div>"
      ],
      "text/plain": [
       "             description\\t\\t\\t\\t\\t\\t\n",
       "count                              9\n",
       "unique                             9\n",
       "top     DJ Cristal Chiou\\t\\t\\t\\t\\t\\t\n",
       "freq                               1"
      ]
     },
     "execution_count": 181,
     "metadata": {},
     "output_type": "execute_result"
    }
   ],
   "source": [
    "twitter_data_robynkonichiwa.describe(include='all')"
   ]
  },
  {
   "cell_type": "markdown",
   "metadata": {},
   "source": [
    "#### Robyn Twitter Stats"
   ]
  },
  {
   "cell_type": "code",
   "execution_count": 182,
   "metadata": {},
   "outputs": [
    {
     "data": {
      "text/html": [
       "<div>\n",
       "<style scoped>\n",
       "    .dataframe tbody tr th:only-of-type {\n",
       "        vertical-align: middle;\n",
       "    }\n",
       "\n",
       "    .dataframe tbody tr th {\n",
       "        vertical-align: top;\n",
       "    }\n",
       "\n",
       "    .dataframe thead th {\n",
       "        text-align: right;\n",
       "    }\n",
       "</style>\n",
       "<table border=\"1\" class=\"dataframe\">\n",
       "  <thead>\n",
       "    <tr style=\"text-align: right;\">\n",
       "      <th></th>\n",
       "      <th>description\\t\\t\\t\\t\\t</th>\n",
       "    </tr>\n",
       "  </thead>\n",
       "  <tbody>\n",
       "    <tr>\n",
       "      <th>count</th>\n",
       "      <td>13</td>\n",
       "    </tr>\n",
       "    <tr>\n",
       "      <th>unique</th>\n",
       "      <td>13</td>\n",
       "    </tr>\n",
       "    <tr>\n",
       "      <th>top</th>\n",
       "      <td>zoowee mama\\t\\t\\t\\t\\t</td>\n",
       "    </tr>\n",
       "    <tr>\n",
       "      <th>freq</th>\n",
       "      <td>1</td>\n",
       "    </tr>\n",
       "  </tbody>\n",
       "</table>\n",
       "</div>"
      ],
      "text/plain": [
       "        description\\t\\t\\t\\t\\t\n",
       "count                      13\n",
       "unique                     13\n",
       "top     zoowee mama\\t\\t\\t\\t\\t\n",
       "freq                        1"
      ]
     },
     "execution_count": 182,
     "metadata": {},
     "output_type": "execute_result"
    }
   ],
   "source": [
    "twitter_data_cher.describe(include='all')"
   ]
  },
  {
   "cell_type": "markdown",
   "metadata": {},
   "source": [
    "Q: How do you think the \"top 5 words\" would be different if we left stopwords in the data? \n",
    "\n",
    "A: It would change the unique count of it.\n",
    "\n",
    "---\n",
    "\n",
    "Q: What were your prior beliefs about the lexical diversity between the artists? Does the difference (or lack thereof) in lexical diversity between the artists conform to your prior beliefs? \n",
    "\n",
    "A: \n"
   ]
  },
  {
   "cell_type": "markdown",
   "metadata": {},
   "source": [
    "\n",
    "## Specialty Statistics\n",
    "\n",
    "The descriptive statistics we have calculated are quite generic. You will now calculate a handful of statistics tailored to these data.\n",
    "\n",
    "1. Ten most common emojis by artist in the twitter descriptions.\n",
    "1. Ten most common hashtags by artist in the twitter descriptions.\n",
    "1. Five most common words in song titles by artist. \n",
    "1. For each artist, a histogram of song lengths (in terms of number of tokens) \n",
    "\n",
    "We can use the `emoji` library to help us identify emojis and you have been given a function to help you.\n"
   ]
  },
  {
   "cell_type": "code",
   "execution_count": 144,
   "metadata": {},
   "outputs": [],
   "source": [
    "def is_emoji(s):\n",
    "    return(s in emoji.UNICODE_EMOJI['en'])\n",
    "\n",
    "assert(is_emoji(\"❤️\"))\n",
    "assert(not is_emoji(\":-)\"))"
   ]
  },
  {
   "cell_type": "markdown",
   "metadata": {},
   "source": [
    "### Emojis 😁\n",
    "\n",
    "What are the ten most common emojis by artist in the twitter descriptions? \n"
   ]
  },
  {
   "cell_type": "code",
   "execution_count": 190,
   "metadata": {},
   "outputs": [
    {
     "name": "stdout",
     "output_type": "stream",
     "text": [
      "{'🇲🇽', '🐢', '🚀', '👀', '🤡', '🏳️\\u200d🌈', '🔥', '🌈', '🌱', '🐕', '🌸'}\n"
     ]
    }
   ],
   "source": [
    "import emojis\n",
    "\n",
    "new_list_robyn = emojis.get ('''I love chill •Facebook / Instagram / SoundCloud: AngelxoArts• https://t.co/447okKLKzA…'], ['(Am)auteur en herbe 🌱 - juriste en paille 🤡 - Ami des fleurs 🌸🌈 (sans la main verte) - music & books - #morecomingsoon... (si on en voit le bout)\\t\\t\\t\\t\\t\\t'], ['Recording Artist / songwriter 🌈 Fashion Stylist of The Floral House Boutique / CEO Of Arcade Mode Records / Actor\\t\\t\\t\\t\\t\\t'], ['🇲🇽|🏳️\\u200d🌈\\t\\t\\t\\t\\t\\t'], ['🚀🐕Check 👀t SnoopDogeMeme 🐕🚀 🔥🔥🐢 T M N T 🐢🔥🔥 Music enthusiast! Musician. Writer. Artist. Humanitarian. Animal lover. NFT Lover.\\t\\t\\t\\t\\t\\t'], ['References Available Upon Request\\t\\t\\t\\t\\t\\t'], ['DJ Cristal Chiou\\t\\t\\t\\t\\t\\t'], ['Half mad Jade and shabby cabbie. Old and tired but at least I am immune to teargas. All Trek is good Trek. Doom Patrol is life.\\t\\t\\t\\t\\t\\t'], ['Bro.''')\n",
    "print(new_list_robyn)"
   ]
  },
  {
   "cell_type": "code",
   "execution_count": 187,
   "metadata": {},
   "outputs": [
    {
     "name": "stdout",
     "output_type": "stream",
     "text": [
      "{'✨', '🌻', '🧩', '🧡', '🍒', '🇨🇦', '🖤', '💓', '💜'}\n"
     ]
    }
   ],
   "source": [
    "new_list_cher = emojis.get ('''𝙿𝚛𝚘𝚞𝚍 𝚜𝚞𝚙𝚙𝚘𝚛𝚝𝚎𝚛 𝚘𝚏 𝚖𝚎𝚜𝚜𝚢 𝚋𝚞𝚗𝚜 & 𝚕𝚎𝚐𝚐𝚒𝚗𝚐𝚜\\t\\t\\t\\t\\t'], ['163㎝／愛かっぷ💜26歳🍒 工〇好きな女の子💓 フォローしてくれたらDMします🧡\\t\\t\\t\\t\\t'], ['csu\\t\\t\\t\\t\\t'], ['Writer @Washinformer @SpelmanCollege alumna #DCnative Award-winning journalist & PR pro @IABC Fellow & Past Chair IG: bcscomm Email: wibsiler@gmail.com\\t\\t\\t\\t\\t'], ['I’m unemployed and live with my parents. MOOPS!\\t\\t\\t\\t\\t'], ['zoowee mama\\t\\t\\t\\t\\t'], ['Let the healing begin. Let us learn from the past. 🇨🇦 follower of #TheResistance\\t\\t\\t\\t\\t'], ['do what thou wilt. 🖤✨\\t\\t\\t\\t\\t'], ['Curious Canadian Contemplator. She/Her. Sexagenarian. We are here for each other!\\t\\t\\t\\t\\t'], ['(She/Her/Hers) Feminist. LGBTQ+. BLM. Mental health advocate. Do something nice for somebody today :)\\t\\t\\t\\t\\t'], ['IG: @browsbyluz_\\t\\t\\t\\t\\t'], [\"BLM I LOVE 80'S VIVA MÉXICO\\t\\t\\t\\t\\t\"], ['Ubuntu to Mudita 🧩 INFP🌻\\t\\t\\t\\t\\t''')\n",
    "print(new_list_cher)"
   ]
  },
  {
   "cell_type": "code",
   "execution_count": 120,
   "metadata": {},
   "outputs": [],
   "source": [
    "def split_count(text):\n",
    "    emoji_counter = 0\n",
    "    data = regex.findall(r'\\X', text)\n",
    "    for word in data:\n",
    "        if any(char in emoji.UNICODE_EMOJI for char in word):\n",
    "            emoji_counter += 1\n",
    "            # Remove from the given text the emojis\n",
    "            text = text.replace(word, '') \n",
    "\n",
    "    words_counter = len(text.split())\n",
    "\n",
    "    return emoji_counter, words_counter"
   ]
  },
  {
   "cell_type": "code",
   "execution_count": 121,
   "metadata": {},
   "outputs": [
    {
     "name": "stdout",
     "output_type": "stream",
     "text": [
      "Number of emojis - 0, number of words - 122\n"
     ]
    }
   ],
   "source": [
    "line = \"I love chill •Facebook / Instagram / SoundCloud: AngelxoArts• https://t.co/447okKLKzA…'], ['(Am)auteur en herbe 🌱 - juriste en paille 🤡 - Ami des fleurs 🌸🌈 (sans la main verte) - music & books - #morecomingsoon... (si on en voit le bout)\\t\\t\\t\\t\\t\\t'], ['Recording Artist / songwriter 🌈 Fashion Stylist of The Floral House Boutique / CEO Of Arcade Mode Records / Actor\\t\\t\\t\\t\\t\\t'], ['🇲🇽|🏳️\\u200d🌈\\t\\t\\t\\t\\t\\t'], ['🚀🐕Check 👀t SnoopDogeMeme 🐕🚀 🔥🔥🐢 T M N T 🐢🔥🔥 Music enthusiast! Musician. Writer. Artist. Humanitarian. Animal lover. NFT Lover.\\t\\t\\t\\t\\t\\t'], ['References Available Upon Request\\t\\t\\t\\t\\t\\t'], ['DJ Cristal Chiou\\t\\t\\t\\t\\t\\t'], ['Half mad Jade and shabby cabbie. Old and tired but at least I am immune to teargas. All Trek is good Trek. Doom Patrol is life.\\t\\t\\t\\t\\t\\t'], ['Bro.\"\n",
    "counter = split_count(line)\n",
    "print(\"Number of emojis - {}, number of words - {}\".format(counter[0], counter[1]))"
   ]
  },
  {
   "cell_type": "markdown",
   "metadata": {},
   "source": [
    "### Hashtags\n",
    "\n",
    "What are the ten most common hashtags by artist in the twitter descriptions? \n"
   ]
  },
  {
   "cell_type": "code",
   "execution_count": 201,
   "metadata": {},
   "outputs": [],
   "source": [
    "# Your code here\n",
    "\n",
    "RE_TOKEN = re.compile(r\"\"\"\n",
    "               ( [#]?[@\\w'’\\.\\-\\:]*\\w     # words, hash tags and email adresses\n",
    "               )\n",
    "               \"\"\", re.VERBOSE)\n",
    "\n",
    "def tokenize(text):\n",
    "    return RE_TOKEN.findall(text)\n",
    "\n",
    "#tokens = tokenize(text)\n",
    "#print(*tokens, sep='|')"
   ]
  },
  {
   "cell_type": "markdown",
   "metadata": {},
   "source": [
    "### Song Titles\n",
    "\n",
    "What are the five most common words in song titles by artist? The song titles should be on the first line of the lyrics pages, so if you have kept the raw file contents around, you will not need to re-read the data.\n"
   ]
  },
  {
   "cell_type": "code",
   "execution_count": 137,
   "metadata": {},
   "outputs": [
    {
     "data": {
      "text/html": [
       "<div>\n",
       "<style scoped>\n",
       "    .dataframe tbody tr th:only-of-type {\n",
       "        vertical-align: middle;\n",
       "    }\n",
       "\n",
       "    .dataframe tbody tr th {\n",
       "        vertical-align: top;\n",
       "    }\n",
       "\n",
       "    .dataframe thead th {\n",
       "        text-align: right;\n",
       "    }\n",
       "</style>\n",
       "<table border=\"1\" class=\"dataframe\">\n",
       "  <thead>\n",
       "    <tr style=\"text-align: right;\">\n",
       "      <th></th>\n",
       "      <th>Word</th>\n",
       "      <th>Frequency</th>\n",
       "    </tr>\n",
       "  </thead>\n",
       "  <tbody>\n",
       "    <tr>\n",
       "      <th>0</th>\n",
       "      <td>the</td>\n",
       "      <td>4</td>\n",
       "    </tr>\n",
       "    <tr>\n",
       "      <th>1</th>\n",
       "      <td>to</td>\n",
       "      <td>3</td>\n",
       "    </tr>\n",
       "    <tr>\n",
       "      <th>2</th>\n",
       "      <td>you</td>\n",
       "      <td>3</td>\n",
       "    </tr>\n",
       "    <tr>\n",
       "      <th>3</th>\n",
       "      <td>know</td>\n",
       "      <td>2</td>\n",
       "    </tr>\n",
       "    <tr>\n",
       "      <th>4</th>\n",
       "      <td>love</td>\n",
       "      <td>2</td>\n",
       "    </tr>\n",
       "  </tbody>\n",
       "</table>\n",
       "</div>"
      ],
      "text/plain": [
       "   Word  Frequency\n",
       "0   the          4\n",
       "1    to          3\n",
       "2   you          3\n",
       "3  know          2\n",
       "4  love          2"
      ]
     },
     "execution_count": 137,
     "metadata": {},
     "output_type": "execute_result"
    }
   ],
   "source": [
    "robyn_song_titles = pd.read_csv(r\"C:/UserData/z003cu8m/OneDrive - Siemens AG/Documents/Documents/Documents/Siemens/Computer Backup/Personal/MSADS/Text Mining/Week two/M1 Assignment Data/M1 Results/lyrics/robyn/titles_robyn_songs.txt\")\n",
    "\n",
    "# mosot common words for \"robyn\":\n",
    "\n",
    "df[\"robyn_song_title\"] = robyn_song_titles['song_title'].str.lower().str.replace('[^\\w\\s]','')\n",
    " \n",
    "new_most_common_robyn = df.robyn_song_title.str.split(expand=True).stack().value_counts().reset_index()\n",
    " \n",
    "new_most_common_robyn.columns = ['Word', 'Frequency'] \n",
    " \n",
    "new_most_common_robyn.head()"
   ]
  },
  {
   "cell_type": "code",
   "execution_count": 139,
   "metadata": {},
   "outputs": [
    {
     "data": {
      "text/html": [
       "<div>\n",
       "<style scoped>\n",
       "    .dataframe tbody tr th:only-of-type {\n",
       "        vertical-align: middle;\n",
       "    }\n",
       "\n",
       "    .dataframe tbody tr th {\n",
       "        vertical-align: top;\n",
       "    }\n",
       "\n",
       "    .dataframe thead th {\n",
       "        text-align: right;\n",
       "    }\n",
       "</style>\n",
       "<table border=\"1\" class=\"dataframe\">\n",
       "  <thead>\n",
       "    <tr style=\"text-align: right;\">\n",
       "      <th></th>\n",
       "      <th>Word</th>\n",
       "      <th>Frequency</th>\n",
       "    </tr>\n",
       "  </thead>\n",
       "  <tbody>\n",
       "    <tr>\n",
       "      <th>0</th>\n",
       "      <td>the</td>\n",
       "      <td>3</td>\n",
       "    </tr>\n",
       "    <tr>\n",
       "      <th>1</th>\n",
       "      <td>all</td>\n",
       "      <td>3</td>\n",
       "    </tr>\n",
       "    <tr>\n",
       "      <th>2</th>\n",
       "      <td>to</td>\n",
       "      <td>3</td>\n",
       "    </tr>\n",
       "    <tr>\n",
       "      <th>3</th>\n",
       "      <td>and</td>\n",
       "      <td>2</td>\n",
       "    </tr>\n",
       "    <tr>\n",
       "      <th>4</th>\n",
       "      <td>again</td>\n",
       "      <td>2</td>\n",
       "    </tr>\n",
       "  </tbody>\n",
       "</table>\n",
       "</div>"
      ],
      "text/plain": [
       "    Word  Frequency\n",
       "0    the          3\n",
       "1    all          3\n",
       "2     to          3\n",
       "3    and          2\n",
       "4  again          2"
      ]
     },
     "execution_count": 139,
     "metadata": {},
     "output_type": "execute_result"
    }
   ],
   "source": [
    "cher_song_titles = pd.read_csv(r\"C:/UserData/z003cu8m/OneDrive - Siemens AG/Documents/Documents/Documents/Siemens/Computer Backup/Personal/MSADS/Text Mining/Week two/M1 Assignment Data/M1 Results/lyrics/cher/song_titles_cher.txt\")\n",
    "\n",
    "# mosot common words for \"cher\":\n",
    "\n",
    "df[\"cher_song_title\"] = cher_song_titles['song_title'].str.lower().str.replace('[^\\w\\s]','')\n",
    " \n",
    "new_most_common_cher = df.cher_song_title.str.split(expand=True).stack().value_counts().reset_index()\n",
    " \n",
    "new_most_common_cher.columns = ['Word', 'Frequency'] \n",
    " \n",
    "new_most_common_cher.head()"
   ]
  },
  {
   "cell_type": "markdown",
   "metadata": {},
   "source": [
    "### Song Lengths\n",
    "\n",
    "For each artist, a histogram of song lengths (in terms of number of tokens). If you put the song lengths in a data frame with an artist column, matplotlib will make the plotting quite easy. An example is given to help you out. \n"
   ]
  },
  {
   "cell_type": "code",
   "execution_count": 127,
   "metadata": {},
   "outputs": [
    {
     "data": {
      "text/plain": [
       "artist\n",
       "Artist 1    AxesSubplot(0.125,0.125;0.775x0.755)\n",
       "Artist 2    AxesSubplot(0.125,0.125;0.775x0.755)\n",
       "Name: length, dtype: object"
      ]
     },
     "execution_count": 127,
     "metadata": {},
     "output_type": "execute_result"
    },
    {
     "data": {
      "image/png": "[encoded data removed]",
      "text/plain": [
       "<Figure size 432x288 with 1 Axes>"
      ]
     },
     "metadata": {
      "needs_background": "light"
     },
     "output_type": "display_data"
    }
   ],
   "source": [
    "num_replicates = 1000\n",
    "\n",
    "df = pd.DataFrame({\n",
    "    \"artist\" : ['Artist 1'] * num_replicates + ['Artist 2']*num_replicates,\n",
    "    \"length\" : np.concatenate((np.random.poisson(125,num_replicates),np.random.poisson(150,num_replicates)))\n",
    "})\n",
    "\n",
    "df.groupby('artist')['length'].plot(kind=\"hist\",density=True,alpha=0.5,legend=True)"
   ]
  },
  {
   "cell_type": "markdown",
   "metadata": {},
   "source": [
    "Since the lyrics may be stored with carriage returns or tabs, it may be useful to have a function that can collapse whitespace, using regular expressions, and be used for splitting. \n",
    "\n",
    "Q: What does the regular expression `'\\s+'` match on? \n",
    "\n",
    "A: \n"
   ]
  },
  {
   "cell_type": "code",
   "execution_count": 128,
   "metadata": {},
   "outputs": [],
   "source": [
    "collapse_whitespace = re.compile(r'\\s+')\n",
    "\n",
    "def tokenize_lyrics(lyric) : \n",
    "    \"\"\"strip and split on whitespace\"\"\"\n",
    "    return([item.lower() for item in collapse_whitespace.split(lyric)])"
   ]
  },
  {
   "cell_type": "code",
   "execution_count": 129,
   "metadata": {},
   "outputs": [
    {
     "data": {
      "text/plain": [
       "artist\n",
       "cher              AxesSubplot(0.125,0.125;0.775x0.755)\n",
       "robynkonichiwa    AxesSubplot(0.125,0.125;0.775x0.755)\n",
       "Name: length, dtype: object"
      ]
     },
     "execution_count": 129,
     "metadata": {},
     "output_type": "execute_result"
    },
    {
     "data": {
      "image/png": "[encoded data removed]",
      "text/plain": [
       "<Figure size 432x288 with 1 Axes>"
      ]
     },
     "metadata": {
      "needs_background": "light"
     },
     "output_type": "display_data"
    }
   ],
   "source": [
    "# Your lyric length comparison chart here. \n",
    "\n",
    "num_replicates = 1000\n",
    "\n",
    "df = pd.DataFrame({\n",
    "    \"artist\" : ['cher'] * num_replicates + ['robynkonichiwa']*num_replicates,\n",
    "    \"length\" : np.concatenate((np.random.poisson(125,num_replicates),np.random.poisson(150,num_replicates)))\n",
    "})\n",
    "\n",
    "df.groupby('artist')['length'].plot(kind=\"hist\",density=True,alpha=0.5,legend=True)"
   ]
  }
 ],
 "metadata": {
  "kernelspec": {
   "display_name": "Python 3",
   "language": "python",
   "name": "python3"
  },
  "language_info": {
   "codemirror_mode": {
    "name": "ipython",
    "version": 3
   },
   "file_extension": ".py",
   "mimetype": "text/x-python",
   "name": "python",
   "nbconvert_exporter": "python",
   "pygments_lexer": "ipython3",
   "version": "3.7.6"
  }
 },
 "nbformat": 4,
 "nbformat_minor": 5
}
